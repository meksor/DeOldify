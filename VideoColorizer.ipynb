{
 "cells": [
  {
   "cell_type": "code",
   "execution_count": 1,
   "metadata": {},
   "outputs": [
    {
     "data": {
      "text/plain": [
       "<DeviceId.GPU0: 0>"
      ]
     },
     "execution_count": 1,
     "metadata": {},
     "output_type": "execute_result"
    }
   ],
   "source": [
    "#NOTE:  This must be the first call in order to work properly!\n",
    "from deoldify import device\n",
    "from deoldify.device_id import DeviceId\n",
    "#choices:  CPU, GPU0...GPU7\n",
    "device.set(device=DeviceId.GPU0)"
   ]
  },
  {
   "cell_type": "code",
   "execution_count": 2,
   "metadata": {},
   "outputs": [
    {
     "name": "stdout",
     "output_type": "stream",
     "text": [
      "Note: NumExpr detected 12 cores but \"NUMEXPR_MAX_THREADS\" not set, so enforcing safe limit of 8.\n",
      "NumExpr defaulting to 8 threads.\n"
     ]
    }
   ],
   "source": [
    "from deoldify.visualize import *\n",
    "plt.style.use('dark_background')\n",
    "import warnings\n",
    "warnings.filterwarnings(\"ignore\", category=UserWarning, message=\".*?Your .*? set is empty.*?\")"
   ]
  },
  {
   "cell_type": "code",
   "execution_count": 3,
   "metadata": {},
   "outputs": [
    {
     "name": "stderr",
     "output_type": "stream",
     "text": [
      "/run/media/wolschlager/RAID/Projects/DeOldify/.venv/lib/python3.11/site-packages/torchvision/models/_utils.py:208: UserWarning: The parameter 'pretrained' is deprecated since 0.13 and may be removed in the future, please use 'weights' instead.\n",
      "  warnings.warn(\n",
      "/run/media/wolschlager/RAID/Projects/DeOldify/.venv/lib/python3.11/site-packages/torchvision/models/_utils.py:223: UserWarning: Arguments other than a weight enum or `None` for 'weights' are deprecated since 0.13 and may be removed in the future. The current behavior is equivalent to passing `weights=ResNet101_Weights.IMAGENET1K_V1`. You can also use `weights=ResNet101_Weights.DEFAULT` to get the most up-to-date weights.\n",
      "  warnings.warn(msg)\n"
     ]
    }
   ],
   "source": [
    "colorizer = get_video_colorizer()"
   ]
  },
  {
   "attachments": {},
   "cell_type": "markdown",
   "metadata": {},
   "source": [
    "# Instructions\n",
    "\n",
    "### source_url\n",
    "Type in a url hosting a video from YouTube, Imgur, Twitter, Reddit, Vimeo, etc.  Many sources work!  GIFs also work.  Full list here: https://ytdl-org.github.io/youtube-dl/supportedsites.html NOTE: If you want to use your own video, you can set source_url to None and just upload the file to video/source/ in Jupyter.  Just make sure that the file_name parameter matches the file you uploaded.\n",
    "\n",
    "\n",
    "### file_name\n",
    "Name this whatever sensible file name you want (minus extension)! It should actually exist in video/source if source_url=None\n",
    "\n",
    "\n",
    "### render_factor\n",
    "The default value of 21 has been carefully chosen and should work -ok- for most scenarios (but probably won't be the -best-). This determines resolution at which the color portion of the video is rendered. Lower resolution will render faster, and colors also tend to look more vibrant. Older and lower quality film in particular will generally benefit by lowering the render factor. Higher render factors are often better for higher quality videos and inconsistencies (flashy render) will generally be reduced, but the colors may get slightly washed out. \n",
    "\n",
    "\n",
    "### file_name_ext\n",
    "There's no reason to changes this.\n",
    "\n",
    "\n",
    "### result_path\n",
    "Ditto- don't change.\n",
    "\n",
    "\n",
    "### How to Download a Copy\n",
    "Simply shift+right click on the displayed video and click \"Save video as...\"!\n",
    "\n",
    "\n",
    "## Pro Tips\n",
    "1. If a video takes a long time to render and you're wondering how well the frames will actually be colorized, you can preview how well the frames will be rendered at each render_factor by using the code at the bottom. Just stop the video rendering by hitting the stop button on the cell, then run that bottom cell under \"See how well render_factor values perform on a frame here\". It's not perfect and you may still need to experiment a bit especially when it comes to figuring out how to reduce frame inconsistency.  But it'll go a long way in narrowing down what actually works.\n",
    "\n",
    "\n",
    "## Troubleshooting\n",
    "The video player may wind up not showing up, in which case- make sure to wait for the Jupyter cell to complete processing first (the play button will stop spinning).  Then follow these alternative download instructions\n",
    "\n",
    "1. In the menu to the left, click Home icon.\n",
    "2. By default, rendered video will be in /video/result/\n",
    "\n",
    "If a video you downloaded doesn't play, it's probably because the cell didn't complete processing and the video is in a half-finished state.\n",
    "If you get a 'CUDA out of memory' error, you probably have the render_factor too high.  The max is 44 on 11GB video cards."
   ]
  },
  {
   "attachments": {},
   "cell_type": "markdown",
   "metadata": {},
   "source": [
    "## Colorize!!"
   ]
  },
  {
   "cell_type": "code",
   "execution_count": 4,
   "metadata": {},
   "outputs": [
    {
     "data": {
      "text/html": [
       "\n",
       "<style>\n",
       "    /* Turns off some styling */\n",
       "    progress {\n",
       "        /* gets rid of default border in Firefox and Opera. */\n",
       "        border: none;\n",
       "        /* Needs to be in here for Safari polyfill so background images work as expected. */\n",
       "        background-size: auto;\n",
       "    }\n",
       "    progress:not([value]), progress:not([value])::-webkit-progress-bar {\n",
       "        background: repeating-linear-gradient(45deg, #7e7e7e, #7e7e7e 10px, #5c5c5c 10px, #5c5c5c 20px);\n",
       "    }\n",
       "    .progress-bar-interrupted, .progress-bar-interrupted::-webkit-progress-bar {\n",
       "        background: #F44336;\n",
       "    }\n",
       "</style>\n"
      ],
      "text/plain": [
       "<IPython.core.display.HTML object>"
      ]
     },
     "metadata": {},
     "output_type": "display_data"
    },
    {
     "data": {
      "text/html": [
       "\n",
       "    <div>\n",
       "      <progress value='1819' class='' max='4564' style='width:300px; height:20px; vertical-align: middle;'></progress>\n",
       "      39.86% [1819/4564 04:50&lt;07:19]\n",
       "    </div>\n",
       "    "
      ],
      "text/plain": [
       "<IPython.core.display.HTML object>"
      ]
     },
     "metadata": {},
     "output_type": "display_data"
    },
    {
     "ename": "FileNotFoundError",
     "evalue": "[Errno 2] No such file or directory: 'video/result/untitled.mkv'",
     "output_type": "error",
     "traceback": [
      "\u001b[0;31m---------------------------------------------------------------------------\u001b[0m",
      "\u001b[0;31mFileNotFoundError\u001b[0m                         Traceback (most recent call last)",
      "Cell \u001b[0;32mIn[4], line 12\u001b[0m\n\u001b[1;32m     10\u001b[0m     result_path \u001b[39m=\u001b[39m colorizer\u001b[39m.\u001b[39mcolorize_from_url(source_url, file_name_ext, render_factor\u001b[39m=\u001b[39mrender_factor)\n\u001b[1;32m     11\u001b[0m \u001b[39melse\u001b[39;00m:\n\u001b[0;32m---> 12\u001b[0m     result_path \u001b[39m=\u001b[39m colorizer\u001b[39m.\u001b[39;49mcolorize_from_file_name(file_name_ext, render_factor\u001b[39m=\u001b[39;49mrender_factor)\n\u001b[1;32m     14\u001b[0m show_video_in_notebook(result_path)\n",
      "File \u001b[0;32m/run/media/wolschlager/RAID/Projects/DeOldify/deoldify/visualize.py:392\u001b[0m, in \u001b[0;36mVideoColorizer.colorize_from_file_name\u001b[0;34m(self, file_name, render_factor, watermarked, post_process)\u001b[0m\n\u001b[1;32m    388\u001b[0m \u001b[39mdef\u001b[39;00m \u001b[39mcolorize_from_file_name\u001b[39m(\n\u001b[1;32m    389\u001b[0m     \u001b[39mself\u001b[39m, file_name: \u001b[39mstr\u001b[39m, render_factor: \u001b[39mint\u001b[39m \u001b[39m=\u001b[39m \u001b[39mNone\u001b[39;00m,  watermarked: \u001b[39mbool\u001b[39m \u001b[39m=\u001b[39m \u001b[39mTrue\u001b[39;00m, post_process: \u001b[39mbool\u001b[39m \u001b[39m=\u001b[39m \u001b[39mTrue\u001b[39;00m,\n\u001b[1;32m    390\u001b[0m ) \u001b[39m-\u001b[39m\u001b[39m>\u001b[39m Path:\n\u001b[1;32m    391\u001b[0m     source_path \u001b[39m=\u001b[39m \u001b[39mself\u001b[39m\u001b[39m.\u001b[39msource_folder \u001b[39m/\u001b[39m file_name\n\u001b[0;32m--> 392\u001b[0m     \u001b[39mreturn\u001b[39;00m \u001b[39mself\u001b[39;49m\u001b[39m.\u001b[39;49m_colorize_from_path(\n\u001b[1;32m    393\u001b[0m         source_path, render_factor\u001b[39m=\u001b[39;49mrender_factor,  post_process\u001b[39m=\u001b[39;49mpost_process,watermarked\u001b[39m=\u001b[39;49mwatermarked\n\u001b[1;32m    394\u001b[0m     )\n",
      "File \u001b[0;32m/run/media/wolschlager/RAID/Projects/DeOldify/deoldify/visualize.py:407\u001b[0m, in \u001b[0;36mVideoColorizer._colorize_from_path\u001b[0;34m(self, source_path, render_factor, watermarked, post_process)\u001b[0m\n\u001b[1;32m    403\u001b[0m \u001b[39mself\u001b[39m\u001b[39m.\u001b[39m_extract_raw_frames(source_path)\n\u001b[1;32m    404\u001b[0m \u001b[39mself\u001b[39m\u001b[39m.\u001b[39m_colorize_raw_frames(\n\u001b[1;32m    405\u001b[0m     source_path, render_factor\u001b[39m=\u001b[39mrender_factor,post_process\u001b[39m=\u001b[39mpost_process,watermarked\u001b[39m=\u001b[39mwatermarked\n\u001b[1;32m    406\u001b[0m )\n\u001b[0;32m--> 407\u001b[0m \u001b[39mreturn\u001b[39;00m \u001b[39mself\u001b[39;49m\u001b[39m.\u001b[39;49m_build_video(source_path)\n",
      "File \u001b[0;32m/run/media/wolschlager/RAID/Projects/DeOldify/deoldify/visualize.py:339\u001b[0m, in \u001b[0;36mVideoColorizer._build_video\u001b[0;34m(self, source_path)\u001b[0m\n\u001b[1;32m    337\u001b[0m     result_path\u001b[39m.\u001b[39munlink()\n\u001b[1;32m    338\u001b[0m \u001b[39m# making copy of non-audio version in case adding back audio doesn't apply or fails.\u001b[39;00m\n\u001b[0;32m--> 339\u001b[0m shutil\u001b[39m.\u001b[39;49mcopyfile(\u001b[39mstr\u001b[39;49m(colorized_path), \u001b[39mstr\u001b[39;49m(result_path))\n\u001b[1;32m    341\u001b[0m \u001b[39m# adding back sound here\u001b[39;00m\n\u001b[1;32m    342\u001b[0m audio_file \u001b[39m=\u001b[39m Path(\u001b[39mstr\u001b[39m(source_path)\u001b[39m.\u001b[39mreplace(\u001b[39m'\u001b[39m\u001b[39m.mp4\u001b[39m\u001b[39m'\u001b[39m, \u001b[39m'\u001b[39m\u001b[39m.aac\u001b[39m\u001b[39m'\u001b[39m))\n",
      "File \u001b[0;32m/usr/lib/python3.11/shutil.py:256\u001b[0m, in \u001b[0;36mcopyfile\u001b[0;34m(src, dst, follow_symlinks)\u001b[0m\n\u001b[1;32m    254\u001b[0m     os\u001b[39m.\u001b[39msymlink(os\u001b[39m.\u001b[39mreadlink(src), dst)\n\u001b[1;32m    255\u001b[0m \u001b[39melse\u001b[39;00m:\n\u001b[0;32m--> 256\u001b[0m     \u001b[39mwith\u001b[39;00m \u001b[39mopen\u001b[39;49m(src, \u001b[39m'\u001b[39;49m\u001b[39mrb\u001b[39;49m\u001b[39m'\u001b[39;49m) \u001b[39mas\u001b[39;00m fsrc:\n\u001b[1;32m    257\u001b[0m         \u001b[39mtry\u001b[39;00m:\n\u001b[1;32m    258\u001b[0m             \u001b[39mwith\u001b[39;00m \u001b[39mopen\u001b[39m(dst, \u001b[39m'\u001b[39m\u001b[39mwb\u001b[39m\u001b[39m'\u001b[39m) \u001b[39mas\u001b[39;00m fdst:\n\u001b[1;32m    259\u001b[0m                 \u001b[39m# macOS\u001b[39;00m\n",
      "\u001b[0;31mFileNotFoundError\u001b[0m: [Errno 2] No such file or directory: 'video/result/untitled.mkv'"
     ]
    }
   ],
   "source": [
    "#NOTE:  Max is 44 with 11GB video cards.  21 is a good default\n",
    "render_factor=21\n",
    "#NOTE:  Make source_url None to just read from file at ./video/source/[file_name] directly without modification\n",
    "source_url=None\n",
    "file_name = 'untitled'\n",
    "file_name_ext = file_name + '.mkv'\n",
    "result_path = None\n",
    "\n",
    "if source_url is not None:\n",
    "    result_path = colorizer.colorize_from_url(source_url, file_name_ext, render_factor=render_factor)\n",
    "else:\n",
    "    result_path = colorizer.colorize_from_file_name(file_name_ext, render_factor=render_factor)\n",
    "\n",
    "show_video_in_notebook(result_path)"
   ]
  },
  {
   "attachments": {},
   "cell_type": "markdown",
   "metadata": {},
   "source": [
    "## See how well render_factor values perform on a frame here"
   ]
  },
  {
   "cell_type": "code",
   "execution_count": null,
   "metadata": {},
   "outputs": [],
   "source": [
    "for i in range(10,45,2):\n",
    "    colorizer.vis.plot_transformed_image('video/bwframes/' + file_name + '/00001.jpg', render_factor=i, display_render_factor=True, figsize=(8,8))"
   ]
  },
  {
   "cell_type": "code",
   "execution_count": 7,
   "metadata": {},
   "outputs": [
    {
     "ename": "FileNotFoundError",
     "evalue": "[Errno 2] No such file or directory: 'video/result/untitled.mkv'",
     "output_type": "error",
     "traceback": [
      "\u001b[0;31m---------------------------------------------------------------------------\u001b[0m",
      "\u001b[0;31mFileNotFoundError\u001b[0m                         Traceback (most recent call last)",
      "Cell \u001b[0;32mIn[7], line 2\u001b[0m\n\u001b[1;32m      1\u001b[0m \u001b[39mfrom\u001b[39;00m \u001b[39mpathlib\u001b[39;00m \u001b[39mimport\u001b[39;00m Path\n\u001b[0;32m----> 2\u001b[0m colorizer\u001b[39m.\u001b[39;49m_build_video(Path(\u001b[39m'\u001b[39;49m\u001b[39mvideo/source/untitled.mkv\u001b[39;49m\u001b[39m'\u001b[39;49m))\n",
      "File \u001b[0;32m/run/media/wolschlager/RAID/Projects/DeOldify/deoldify/visualize.py:339\u001b[0m, in \u001b[0;36mVideoColorizer._build_video\u001b[0;34m(self, source_path)\u001b[0m\n\u001b[1;32m    337\u001b[0m     result_path\u001b[39m.\u001b[39munlink()\n\u001b[1;32m    338\u001b[0m \u001b[39m# making copy of non-audio version in case adding back audio doesn't apply or fails.\u001b[39;00m\n\u001b[0;32m--> 339\u001b[0m shutil\u001b[39m.\u001b[39;49mcopyfile(\u001b[39mstr\u001b[39;49m(colorized_path), \u001b[39mstr\u001b[39;49m(result_path))\n\u001b[1;32m    341\u001b[0m \u001b[39m# adding back sound here\u001b[39;00m\n\u001b[1;32m    342\u001b[0m audio_file \u001b[39m=\u001b[39m Path(\u001b[39mstr\u001b[39m(source_path)\u001b[39m.\u001b[39mreplace(\u001b[39m'\u001b[39m\u001b[39m.mp4\u001b[39m\u001b[39m'\u001b[39m, \u001b[39m'\u001b[39m\u001b[39m.aac\u001b[39m\u001b[39m'\u001b[39m))\n",
      "File \u001b[0;32m/usr/lib/python3.11/shutil.py:256\u001b[0m, in \u001b[0;36mcopyfile\u001b[0;34m(src, dst, follow_symlinks)\u001b[0m\n\u001b[1;32m    254\u001b[0m     os\u001b[39m.\u001b[39msymlink(os\u001b[39m.\u001b[39mreadlink(src), dst)\n\u001b[1;32m    255\u001b[0m \u001b[39melse\u001b[39;00m:\n\u001b[0;32m--> 256\u001b[0m     \u001b[39mwith\u001b[39;00m \u001b[39mopen\u001b[39m(src, \u001b[39m'\u001b[39m\u001b[39mrb\u001b[39m\u001b[39m'\u001b[39m) \u001b[39mas\u001b[39;00m fsrc:\n\u001b[1;32m    257\u001b[0m         \u001b[39mtry\u001b[39;00m:\n\u001b[1;32m    258\u001b[0m             \u001b[39mwith\u001b[39;00m \u001b[39mopen\u001b[39m(dst, \u001b[39m'\u001b[39m\u001b[39mwb\u001b[39m\u001b[39m'\u001b[39m) \u001b[39mas\u001b[39;00m fdst:\n\u001b[1;32m    259\u001b[0m                 \u001b[39m# macOS\u001b[39;00m\n",
      "\u001b[0;31mFileNotFoundError\u001b[0m: [Errno 2] No such file or directory: 'video/result/untitled.mkv'"
     ]
    }
   ],
   "source": [
    "from pathlib import Path\n",
    "colorizer._build_video(Path('video/source/untitled.mkv'))"
   ]
  }
 ],
 "metadata": {
  "kernelspec": {
   "display_name": "Python 3",
   "language": "python",
   "name": "python3"
  },
  "language_info": {
   "codemirror_mode": {
    "name": "ipython",
    "version": 3
   },
   "file_extension": ".py",
   "mimetype": "text/x-python",
   "name": "python",
   "nbconvert_exporter": "python",
   "pygments_lexer": "ipython3",
   "version": "3.11.3"
  },
  "toc": {
   "colors": {
    "hover_highlight": "#DAA520",
    "navigate_num": "#000000",
    "navigate_text": "#333333",
    "running_highlight": "#FF0000",
    "selected_highlight": "#FFD700",
    "sidebar_border": "#EEEEEE",
    "wrapper_background": "#FFFFFF"
   },
   "moveMenuLeft": true,
   "nav_menu": {
    "height": "67px",
    "width": "252px"
   },
   "navigate_menu": true,
   "number_sections": true,
   "sideBar": true,
   "threshold": 4,
   "toc_cell": false,
   "toc_section_display": "block",
   "toc_window_display": false,
   "widenNotebook": false
  }
 },
 "nbformat": 4,
 "nbformat_minor": 4
}
